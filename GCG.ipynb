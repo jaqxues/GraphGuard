{
 "cells": [
  {
   "cell_type": "markdown",
   "metadata": {},
   "source": [
    "# Using a Global Call Graph\n",
    "\n",
    "Consider a (mutli-directed) Graph where every single node represents a single function and an edge represents a function call. Abstracting these ideas away into a Graph allows us to treat updating names of functions and classes as a Graph Identification problem, identifying node labels.\n",
    "\n",
    "Indeed, there are some fixed points, such as entry points of the every application (Activities, Services, Content Providers, ...). Even \"external\" nodes can be used, such as the Android APIs (Activity Classes, ...) or even libraries (if you want to consider them as such). Clearly, in the Call Graph, in this extremely large amount of nodes can be found a pattern, since functions usually remain the same and node edges hence remain.\n",
    "\n",
    "This is exactly the problem GraphGuard wants to solve: using labeled graphs, find specific nodes with non-corresponding labels in an updated graph (assuming the Global Call Graph does not change too much, which seems reasonable considering how little app code actually gets updated in regards library code, and the Android APIs).\n",
    "\n",
    "\n",
    "At this moment, this method of even generating or loading (needless to say showing and rendering) a Graph of this size is too resource intensive to continue working on this. However, it still is an idea worth to be pursued with optimizations from `androguard`'s side, which may or may not happen. Its single-threaded APIs and Python limitations hurt the workflow (Pickle Serialization to load Apk Sessions, ...). Visualizing the full graph with Gephi works well enough, while `networkx` also hits its limits with a graph of this size."
   ]
  },
  {
   "cell_type": "code",
   "execution_count": 1,
   "metadata": {},
   "outputs": [],
   "source": [
    "import networkx as nx\n",
    "import androguard.cli\n",
    "import sys\n",
    "import os\n",
    "from pathlib import Path"
   ]
  },
  {
   "cell_type": "code",
   "execution_count": 2,
   "metadata": {},
   "outputs": [],
   "source": [
    "def generate_cg(APK,\n",
    "                show=True,\n",
    "                output='callgraph.gml',\n",
    "                verbose=False,\n",
    "                classname=r'.*',\n",
    "                methodname=r'.*',\n",
    "                descriptor=r'.*',\n",
    "                accessflag=r'.*',\n",
    "                no_isolated=False):\n",
    "    \"\"\"Copied from androguard Github, needs graph as return value (avoid loading twice)\"\"\"\n",
    "    from androguard.core.androconf import show_logging\n",
    "    from androguard.core.bytecode import FormatClassToJava\n",
    "    from androguard.misc import AnalyzeAPK\n",
    "    import networkx as nx\n",
    "    import logging\n",
    "    log = logging.getLogger(\"androcfg\")\n",
    "    if verbose:\n",
    "        show_logging(logging.INFO)\n",
    "\n",
    "    a, d, dx = AnalyzeAPK(APK)\n",
    "\n",
    "    entry_points = map(FormatClassToJava,\n",
    "                       a.get_activities() + a.get_providers() +\n",
    "                       a.get_services() + a.get_receivers())\n",
    "    entry_points = list(entry_points)\n",
    "\n",
    "    log.info(\"Found The following entry points by search AndroidManifest.xml: \"\n",
    "             \"{}\".format(entry_points))\n",
    "\n",
    "    CG = dx.get_call_graph(classname,\n",
    "                           methodname,\n",
    "                           descriptor,\n",
    "                           accessflag,\n",
    "                           no_isolated,\n",
    "                           entry_points,\n",
    "                           )\n",
    "\n",
    "    write_methods = dict(gml=_write_gml,\n",
    "                         gexf=nx.write_gexf,\n",
    "                         gpickle=nx.write_gpickle,\n",
    "                         graphml=nx.write_graphml,\n",
    "                         yaml=nx.write_yaml,\n",
    "                         net=nx.write_pajek,\n",
    "                         )\n",
    "\n",
    "    if show:\n",
    "        plot(CG)\n",
    "    else:\n",
    "        writer = output.rsplit(\".\", 1)[1]\n",
    "        if writer in [\"bz2\", \"gz\"]:\n",
    "            writer = output.rsplit(\".\", 2)[1]\n",
    "        if writer not in write_methods:\n",
    "            print(\"Could not find a method to export files to {}!\"\n",
    "                  .format(writer))\n",
    "            sys.exit(1)\n",
    "\n",
    "        write_methods[writer](CG, output)\n",
    "    return CG"
   ]
  },
  {
   "cell_type": "code",
   "execution_count": 3,
   "metadata": {},
   "outputs": [],
   "source": [
    "apk_file = '/home/jaqxues/Downloads/com.snapchat.android_11.6.1.66-2125_minAPI19(arm64-v8a)(nodpi)_apkmirror.com.apk'\n",
    "out_file = f'cg.{Path(apk_file).name}.gml'\n",
    "\n",
    "CG = nx.read_gml(out_file) if os.path.exists(out_file) else generate_cg(apk_file, show=False, output=out_file)"
   ]
  }
 ],
 "metadata": {
  "kernelspec": {
   "display_name": "graphguard_venv",
   "language": "python",
   "name": "graphguard_venv"
  },
  "language_info": {
   "codemirror_mode": {
    "name": "ipython",
    "version": 3
   },
   "file_extension": ".py",
   "mimetype": "text/x-python",
   "name": "python",
   "nbconvert_exporter": "python",
   "pygments_lexer": "ipython3",
   "version": "3.9.2"
  }
 },
 "nbformat": 4,
 "nbformat_minor": 4
}
