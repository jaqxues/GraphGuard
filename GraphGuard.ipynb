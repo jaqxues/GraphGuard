{
 "cells": [
  {
   "cell_type": "markdown",
   "metadata": {},
   "source": [
    "# GraphGuard\n",
    "\n",
    "***Locate and find Classes in Apks with updated Obfuscation Mapping***\n",
    "\n",
    "\n",
    "Processing Steps:\n",
    "1. String Strategy (Classes + Methods) \\\n",
    "  Strategy using 2 different variants only involving Strings:\n",
    "  * String Counter: used in Classes and Methods and try to find exact matching counter.\n",
    "  * Unique Strings: Match Classes by identifying Strings used only in this single Class.\n",
    "\n",
    "\n",
    "\n",
    "2. Structure Strategy (Classes) \\\n",
    "  Strategy that enumerates all classes and tries to find an optimal match by using the following (weighted) criteria:\n",
    "  * Modifiers of class\n",
    "  * Modifiers, Parameters, Parameter Types and Return Types of Methods\n",
    "  * Number and Types of Fields.\n",
    "\n",
    "\n",
    "\n",
    "3. Method Strategy (Methods) \\\n",
    "  Strategy that uses already matched classes and tries to find an optimal Method Match in the class by using the following (weighted) criteria:\n",
    "  * Modifiers\n",
    "  * Return Type, Parameter Types\n",
    "  * Bytecode Length\n",
    "  * References to and from\n",
    "\n",
    "\n",
    "4. Field Strategy (Fields) \\\n",
    "  Strategy that uses already matched classes and tries to find an optimal Field Match in the class by using the following (weighted criteria)\n",
    "  * By Type if a matching Type has been found\n",
    "  * By weighted sub-criteria such as:\n",
    "    * Access Flags\n",
    "    * Size\n",
    "    * Number of reads & Number of writes (references)\n",
    "\n",
    "***If you use Akrolyb, please have a look at [Akrolyb Interoptability](#Interoptability-with-Akrolyb)***"
   ]
  },
  {
   "cell_type": "code",
   "execution_count": 1,
   "metadata": {
    "scrolled": true
   },
   "outputs": [
    {
     "data": {
      "text/html": [
       "<style>div.output_area pre {white-space: pre;}</style>"
      ],
      "text/plain": [
       "<IPython.core.display.HTML object>"
      ]
     },
     "metadata": {},
     "output_type": "display_data"
    }
   ],
   "source": [
    "%matplotlib notebook\n",
    "\n",
    "%load_ext autoreload\n",
    "\n",
    "from IPython.core.display import display, HTML\n",
    "display(HTML(\"<style>div.output_area pre {white-space: pre;}</style>\"))"
   ]
  },
  {
   "cell_type": "code",
   "execution_count": 2,
   "metadata": {},
   "outputs": [],
   "source": [
    "%autoreload\n",
    "from collections.abc import Iterable\n",
    "\n",
    "from core.start import process_files\n",
    "from utils.formats import *\n",
    "\n",
    "from core.accumulator import Accumulator\n",
    "from core.decs import *\n",
    "\n",
    "from strategies import\\\n",
    "    strings as strings_strategy,\\\n",
    "    methods as methods_strategy,\\\n",
    "    structures as structures_strategy,\\\n",
    "    fields as fields_strategy\n",
    "\n",
    "from core.strategy_handler import StrategyHandler, FLAG_CLASS, FLAG_METHOD, FLAG_FIELD\n",
    "\n",
    "from utils import generate\n",
    "from utils import io_akrolyb"
   ]
  },
  {
   "cell_type": "markdown",
   "metadata": {},
   "source": [
    "# Loading Androguard\n",
    "\n",
    "The following code loads the files and starts Androguard\n",
    "\n",
    "It should support multiprocessing, however the Pipe communication seems to break when transmitting the processed Androguard Objects. I suspect the Object is simply too big for Pickle to serialize or another component in the transmitting chain."
   ]
  },
  {
   "cell_type": "code",
   "execution_count": 3,
   "metadata": {},
   "outputs": [],
   "source": [
    "AG_SESSION_FILE = \"./Androguard.ag\"\n",
    "MULTIPROCESS_FILES = False  # Currently not working due to serialization issues\n",
    "\n",
    "\n",
    "# APK Files to load\n",
    "file_paths = (\n",
    "#     \"../../../Downloads/com.snapchat.android_10.87.5.69-2074_minAPI19(arm64-v8a)(nodpi)_apkmirror.com.apk\",\n",
    "#     \"../../../Downloads/com.snapchat.android_10.88.0.63-2076_minAPI19(arm64-v8a)(nodpi)_apkmirror.com.apk\",\n",
    "#     \"../../../Downloads/com.snapchat.android_10.88.5.72-2077_minAPI19(arm64-v8a)(nodpi)_apkmirror.com.apk\",\n",
    "#     \"../../../Downloads/com.snapchat.android_10.89.0.66-2078_minAPI19(arm64-v8a)(nodpi)_apkmirror.com.apk\",\n",
    "#     \"../../../Downloads/com.snapchat.android_10.89.7.78-2085_minAPI19(arm64-v8a)(nodpi)_apkmirror.com.apk\",\n",
    "#     \"../../../Downloads/com.snapchat.android_11.0.0.72-2086_minAPI19(arm64-v8a)(nodpi)_apkmirror.com.apk\",\n",
    "#     \"../../../Downloads/com.snapchat.android_11.0.1.72-2089_minAPI19(arm64-v8a)(nodpi)_apkmirror.com.apk\",\n",
    "    \"../../../Downloads/com.snapchat.android_11.0.6.82-2095_minAPI19(arm64-v8a)(nodpi)_apkmirror.com.apk\",\n",
    "    \"../../../Downloads/com.snapchat.android_11.1.1.66-2097_minAPI19(arm64-v8a)(nodpi)_apkmirror.com.apk\"\n",
    ")\n",
    "\n",
    "\n",
    "# file_paths = (\n",
    "# #     \"../../../Downloads/com.instagram.android_143.0.0.25.121-216817305_minAPI23(arm64-v8a)(nodpi)_apkmirror.com.apk\",\n",
    "    \n",
    "# #     \"../../../Downloads/com.instagram.android_151.0.0.23.120-232868015_minAPI23(arm64-v8a)(nodpi)_apkmirror.com.apk\",\n",
    "# #     \"../../../Downloads/com.instagram.android_151.0.0.23.120-232867993_minAPI19(armeabi-v7a)(nodpi)_apkmirror.com.apk\",\n",
    "    \n",
    "# #     \"../../../Downloads/com.instagram.android_152.0.0.25.117-234847234_minAPI23(arm64-v8a)(nodpi)_apkmirror.com.apk\",\n",
    "# #     \"../../../Downloads/com.instagram.android_152.0.0.25.117-234847224_minAPI19(armeabi-v7a)(nodpi)_apkmirror.com.apk\",\n",
    "    \n",
    "# #     \"../../../Downloads/com.instagram.android_153.0.0.34.96-236572355_minAPI23(arm64-v8a)(nodpi)_apkmirror.com.apk\",\n",
    "# #     \"../../../Downloads/com.instagram.android_153.0.0.34.96-236572319_minAPI19(armeabi-v7a)(nodpi)_apkmirror.com.apk\",\n",
    "    \n",
    "# #     \"../../../Downloads/com.instagram.android_156.0.0.26.109-240726452_minAPI23(arm64-v8a)(nodpi)_apkmirror.com.apk\",\n",
    "# #     \"../../../Downloads/com.instagram.android_156.0.0.26.109-240726384_minAPI19(armeabi-v7a)(nodpi)_apkmirror.com.apk\",\n",
    "    \n",
    "#     \"../../../Downloads/com.instagram.android_157.0.0.37.120-242168935_minAPI23(arm64-v8a)(nodpi)_apkmirror.com.apk\",\n",
    "#     \"../../../Downloads/com.instagram.android_157.0.0.37.120-242168922_minAPI19(armeabi-v7a)(nodpi)_apkmirror.com.apk\"\n",
    "# )"
   ]
  },
  {
   "cell_type": "code",
   "execution_count": 4,
   "metadata": {},
   "outputs": [
    {
     "name": "stdout",
     "output_type": "stream",
     "text": [
      "Loading Session from Apk at ../../../Downloads/com.snapchat.android_11.0.6.82-2095_minAPI19(arm64-v8a)(nodpi)_apkmirror.com.apk\n",
      "Loading Session from Apk at ../../../Downloads/com.snapchat.android_11.1.1.66-2097_minAPI19(arm64-v8a)(nodpi)_apkmirror.com.apk\n"
     ]
    }
   ],
   "source": [
    "(a, d, dx), (a2, d2, dx2) = process_files(*file_paths, MULTIPROCESS_FILES)"
   ]
  },
  {
   "cell_type": "markdown",
   "metadata": {},
   "source": [
    "# List of Classes, Methods and Variables\n",
    "\n",
    "Defining Elements that GraphGuard should try to match (obviously requires full class names).\n",
    "* `named_c_decs` in form of a tuple of Strings\n",
    "* `named_m_decs` in form of a tuple of MethodDeclarations\n",
    "* `named_f_decs` in form of a tuple of FieldDeclarations"
   ]
  },
  {
   "cell_type": "code",
   "execution_count": 5,
   "metadata": {},
   "outputs": [],
   "source": [
    "# Classes of the Methods and Fields are automatically merged with c_decs\n",
    "\n",
    "named_c_decs = {\n",
    "    'SCREENSHOT_DETECTOR': 'DR5',\n",
    "    'STORY_VIEWED_PLUGIN': 'kuh',\n",
    "    'SNAP_MODEL': 'qdc',\n",
    "    'APP_START_EXPERIMENT_MANAGER': 'cUe',\n",
    "    'CBC_ENCRYPTION_ALGORITHM': 'zY6'\n",
    "}"
   ]
  },
  {
   "cell_type": "code",
   "execution_count": 6,
   "metadata": {},
   "outputs": [],
   "source": [
    "named_m_decs = {\n",
    "    'SCREENSHOT_DETECTED': MethodDec('DR5', 'a', 'DR5', 'CR5'),\n",
    "    'MARK_STORY_AS_VIEWED': MethodDec('kuh', 'W', 'kce', 'V1e'),\n",
    "    'SNAP_MODEL_CONSTRUCTOR': MethodDec('qdc', '<init>', 'java.lang.String', 'boolean', 'java.lang.String', 'java.lang.String', 'java.lang.String', 'java.lang.Long', 'iG5', 'long', 'boolean', 'java.lang.Long', 'long'),\n",
    "    'FORCE_APP_DECK': MethodDec('cUe', 'f', 'e95'),\n",
    "    'DECRYPT_MEDIA_STREAM': MethodDec('zY6', 'y0', 'java.io.InputStream')\n",
    "}"
   ]
  },
  {
   "cell_type": "code",
   "execution_count": 7,
   "metadata": {},
   "outputs": [],
   "source": [
    "named_f_decs = {\n",
    "\n",
    "}"
   ]
  },
  {
   "cell_type": "code",
   "execution_count": 8,
   "metadata": {},
   "outputs": [],
   "source": [
    "m_decs = tuple(named_m_decs.values())\n",
    "f_decs = []\n",
    "for f_dec in named_f_decs.values():\n",
    "    if isinstance(f_dec, Iterable):\n",
    "        f_decs.extend(f_dec)\n",
    "    else:\n",
    "        f_decs.append(f_dec)\n",
    "f_decs = tuple(f_decs)\n",
    "\n",
    "# Add Classes of Methods and Fields to c_decs\n",
    "c_decs = tuple(map(lambda m: m.class_name, m_decs)) \\\n",
    "        + tuple(map(lambda v: v.class_name, f_decs)) + tuple(named_c_decs.values())"
   ]
  },
  {
   "cell_type": "markdown",
   "metadata": {},
   "source": [
    "# Processing and Matching\n",
    "\n",
    "Loading the accumulator, an object that manages all the possible candidates that are matched by the different Matchers, and extracts the matching candidates. It also performs Inner joins on previous candidates to find the exact (or optimal) match."
   ]
  },
  {
   "cell_type": "code",
   "execution_count": 9,
   "metadata": {},
   "outputs": [],
   "source": [
    "accumulator = Accumulator()"
   ]
  },
  {
   "cell_type": "markdown",
   "metadata": {},
   "source": [
    "Resolving the previously defined MethodDecs. If this fails, the MethodDecs are wrong and contain an error. Make sure the method specified with the MethodDec exists."
   ]
  },
  {
   "cell_type": "code",
   "execution_count": 10,
   "metadata": {},
   "outputs": [
    {
     "name": "stdout",
     "output_type": "stream",
     "text": [
      "Resolved all Classes, Methods and Fields\n"
     ]
    }
   ],
   "source": [
    "dec_cas = resolve_classes(dx, c_decs)\n",
    "\n",
    "r_cas = tuple(dec_cas.values())\n",
    "r_mas = resolve_methods(m_decs, dec_cas)\n",
    "r_fas = resolve_fields(f_decs, dec_cas)\n",
    "\n",
    "print(\"Resolved all Classes, Methods and Fields\")\n",
    "if False:\n",
    "    print(\"\", *map(pretty_format_ma, r_mas), sep=\"\\n* \")\n",
    "\n",
    "# Arguments to provide to Strategies\n",
    "s_args = (dx, dx2, r_cas, r_mas, r_fas, accumulator)"
   ]
  },
  {
   "cell_type": "markdown",
   "metadata": {},
   "source": [
    "## Strategies & StrategyHandler\n",
    "\n",
    "Strategies are essentially functions returning candidates for Classes, Methods or Fields. A `strategy` gets registered in the `StrategyHandler` with Flags indicating whether it tries to match Classes, Methods or Fields. If a search is invoked for a matching flag, the strategy gets invoked on the given arguments.\n",
    "\n",
    "Global Parameters and Rules of the Strategies allow for easily changing criteria, e. g. use a more lenient search and not require strict matches."
   ]
  },
  {
   "cell_type": "code",
   "execution_count": 11,
   "metadata": {},
   "outputs": [],
   "source": [
    "strategies = StrategyHandler()\n",
    "\n",
    "\n",
    "strings_strategy.MAX_USAGE_COUNT_STR = 20\n",
    "strings_strategy.UNIQUE_STRINGS_MAJORITY = 2 / 3\n",
    "\n",
    "methods_strategy.MIN_MATCH_POINTS = 2"
   ]
  },
  {
   "cell_type": "markdown",
   "metadata": {},
   "source": [
    "## String Strategy\n",
    "\n",
    "### Exact Counter Match\n",
    "\n",
    "Extracts Strings used either in the given methods directly or in the classes the methods define for both, the old version and the new version. It then compares the Counters for classes and methods and tries to find exact matches between the Counter Objects."
   ]
  },
  {
   "cell_type": "code",
   "execution_count": 12,
   "metadata": {
    "scrolled": true
   },
   "outputs": [
    {
     "name": "stdout",
     "output_type": "stream",
     "text": [
      "+ Found single candidate for Method. Considering it a match \n",
      "\tDR5#a(DR5, CR5) -> CV5#a(CV5, BV5)\n",
      "* Found multiple candidates for Method kuh#W(kce, V1e)\n",
      "+ Matching Class of single candidate method match \n",
      "\tLDR5; -> LCV5;\n",
      "Could resolve 1 new Classes, 1 new Methods, 0 new Fields.\n"
     ]
    }
   ],
   "source": [
    "def string_counter_strategy(r_cas, r_mas, r_fas):\n",
    "    string_s = strings_strategy.StringStrategy(dx, dx2, r_cas, r_mas, r_fas, accumulator)\n",
    "    candidates_cs, candidates_ms = string_s.compare_counters()\n",
    "    \n",
    "    accumulator.add_candidates(candidates_cs, candidates_ms)\n",
    "\n",
    "strategies.add_strategy(string_counter_strategy, FLAG_CLASS | FLAG_METHOD)\n",
    "strategies.invoke_strategies(r_cas, r_mas, r_fas, only_new=True)"
   ]
  },
  {
   "cell_type": "markdown",
   "metadata": {},
   "source": [
    "### Unique Strings\n",
    "\n",
    "Gather all Strings that are used only in a single class (\"Unique Strings\") that we still need to match. Then try to find the matching class by only searching for the Unique Strings."
   ]
  },
  {
   "cell_type": "code",
   "execution_count": 13,
   "metadata": {
    "scrolled": true
   },
   "outputs": [
    {
     "name": "stdout",
     "output_type": "stream",
     "text": [
      "+ Found single candidate for Class. Considering it a match! \n",
      "\tLcUe; -> Lz3f;\n",
      "+ Found single candidate for Class. Considering it a match! \n",
      "\tLzY6; -> Lq47;\n",
      "+ Found single candidate for Class. Considering it a match! \n",
      "\tLkuh; -> LUEh;\n",
      "Could resolve 3 new Classes, 0 new Methods, 0 new Fields.\n"
     ]
    }
   ],
   "source": [
    "def unique_strings_strategy(r_cas, r_mas, r_fas):\n",
    "    string_s = strings_strategy.StringStrategy(dx, dx2, r_cas, r_mas, r_fas, accumulator)\n",
    "    candidates_cs = string_s.compare_unique_strings()\n",
    "    \n",
    "    accumulator.add_candidates(candidates_cs)\n",
    "\n",
    "strategies.add_strategy(unique_strings_strategy, FLAG_CLASS)\n",
    "strategies.invoke_strategies(r_cas, r_mas, r_fas, only_new=True)"
   ]
  },
  {
   "cell_type": "markdown",
   "metadata": {},
   "source": [
    "## Structure Strategy\n",
    "\n",
    "Iterating through every single class and checks for each unmatched class if both have a similar \"Profile\":\n",
    "* Number of Methods and Fields\n",
    "* Types of Fields and Descriptors of Methods"
   ]
  },
  {
   "cell_type": "code",
   "execution_count": 14,
   "metadata": {
    "scrolled": true
   },
   "outputs": [
    {
     "name": "stdout",
     "output_type": "stream",
     "text": [
      "+ Found single candidate for Class. Considering it a match! \n",
      "\tLqdc; -> Ljmc;\n",
      "Could resolve 1 new Classes, 0 new Methods, 0 new Fields.\n"
     ]
    }
   ],
   "source": [
    "def structure_strategy(r_cas, r_mas, r_fas):\n",
    "    structure_s = structures_strategy.StructureStrategy(dx, dx2, r_cas, r_mas, r_fas, accumulator)\n",
    "    candidates_cs = structure_s.get_exact_structure_matches()\n",
    "\n",
    "    accumulator.add_candidates(candidates_cs)\n",
    "\n",
    "strategies.add_strategy(structure_strategy, FLAG_CLASS)\n",
    "strategies.invoke_strategies(r_cas, r_mas, r_fas, only_new=True)"
   ]
  },
  {
   "cell_type": "markdown",
   "metadata": {},
   "source": [
    "## Method Strategy\n",
    "\n",
    "Uses different weighted criteria to get exact or optimal matches. The criteria are:\n",
    "* Modifiers\n",
    "* Return Type and Parameter Types\n",
    "* Length of Bytecode\n",
    "* References to and from"
   ]
  },
  {
   "cell_type": "code",
   "execution_count": 15,
   "metadata": {
    "scrolled": true
   },
   "outputs": [
    {
     "name": "stdout",
     "output_type": "stream",
     "text": [
      "Exact Matching\n",
      "\n",
      "+ Found single candidate for Method. Considering it a match \n",
      "\tkuh#W(kce, V1e) -> UEh#Y(Cke, oae)\n",
      "+ Found single candidate for Method. Considering it a match \n",
      "\tqdc#<init>(java.lang.String, boolean, java.lang.String, java.lang.String, java.lang.String, java.lang.Long, iG5, long, boolean, java.lang.Long, long) -> jmc#<init>(java.lang.String, boolean, java.lang.String, java.lang.String, java.lang.String, java.lang.Long, cK5, long, boolean, java.lang.Long, long)\n",
      "+ Found single candidate for Method. Considering it a match \n",
      "\tzY6#y0(java.io.InputStream) -> q47#y0(java.io.InputStream)\n",
      "Could resolve 0 new Classes, 3 new Methods, 0 new Fields.\n",
      "\n",
      "Non-Exact Matching\n",
      "\n",
      "+ Found single candidate for Method. Considering it a match \n",
      "\tcUe#f(e95) -> z3f#f(Jc5)\n",
      "Could resolve 0 new Classes, 1 new Methods, 0 new Fields.\n"
     ]
    }
   ],
   "source": [
    "def method_strategy(r_cas, r_mas, r_fas):\n",
    "    method_s = methods_strategy.MethodStrategy(dx, dx2, r_cas, r_mas, r_fas, accumulator)\n",
    "\n",
    "    print(\"Exact Matching\")\n",
    "    print()\n",
    "\n",
    "    # Exact Matches\n",
    "    candidates_ms = method_s.try_resolve_ms(True)\n",
    "    accumulator.add_candidates(candidates_ms=candidates_ms)\n",
    "\n",
    "    print()\n",
    "    print(\"Non-Exact Matching\")\n",
    "    print()\n",
    "\n",
    "    method_s.update_matched()\n",
    "    # Non-Exact Matches by using weights on the criteria\n",
    "    candidates_ms = method_s.try_resolve_ms(False)\n",
    "    accumulator.add_candidates(candidates_ms=candidates_ms)\n",
    "    \n",
    "strategies.add_strategy(method_strategy, FLAG_METHOD)\n",
    "strategies.invoke_strategies(r_cas, r_mas, r_fas, only_new=True)"
   ]
  },
  {
   "cell_type": "markdown",
   "metadata": {},
   "source": [
    "## Field Strategy\n",
    "\n",
    "Gathers all fields of matching Class and filters using the following criteria:\n",
    "* By Type if a matching Type has been found\n",
    "* By weighted sub-criteria such as:\n",
    "  * Access Flags\n",
    "  * Size\n",
    "  * Number of reads & Number of writes\n",
    "* By Index if the list of Fields has not changed dramatically"
   ]
  },
  {
   "cell_type": "code",
   "execution_count": 16,
   "metadata": {
    "scrolled": true
   },
   "outputs": [],
   "source": [
    "def field_strategy(r_cas, r_mas, r_fas):\n",
    "    field_s = fields_strategy.FieldStrategy(*s_args)\n",
    "    \n",
    "    print(\"Resolving Types of Fields\")\n",
    "    strategies.invoke_strategies(tuple(field_s.get_types_to_match()))\n",
    "    print()\n",
    "    \n",
    "    candidates_fs = field_s.try_resolve_fs()\n",
    "    \n",
    "    accumulator.add_candidates(candidates_fs=candidates_fs)\n",
    "    \n",
    "strategies.add_strategy(field_strategy, FLAG_FIELD)\n",
    "strategies.invoke_strategies(r_cas, r_mas, r_fas, only_new=True)"
   ]
  },
  {
   "cell_type": "markdown",
   "metadata": {},
   "source": [
    "# Results\n",
    "Display summary and matching pairs.\n",
    "\n",
    "Output to compatible MethodDec input to update from auto-updated values."
   ]
  },
  {
   "cell_type": "code",
   "execution_count": 17,
   "metadata": {
    "scrolled": true
   },
   "outputs": [
    {
     "name": "stdout",
     "output_type": "stream",
     "text": [
      "5 / 5 Classes were matched\n",
      "5 / 5 Methods were matched\n",
      "0 / 0 Fields were matched\n",
      "\n",
      "Matching Classes:\n",
      "• DR5 -> CV5\n",
      "• cUe -> z3f\n",
      "• zY6 -> q47\n",
      "• kuh -> UEh\n",
      "• qdc -> jmc\n",
      "\n",
      "Matching Methods:\n",
      "• DR5#a(DR5, CR5) -> CV5#a(CV5, BV5)\n",
      "• kuh#W(kce, V1e) -> UEh#Y(Cke, oae)\n",
      "• qdc#<init>(java.lang.String, boolean, java.lang.String, java.lang.String, java.lang.String, java.lang.Long, iG5, long, boolean, java.lang.Long, long) -> jmc#<init>(java.lang.String, boolean, java.lang.String, java.lang.String, java.lang.String, java.lang.Long, cK5, long, boolean, java.lang.Long, long)\n",
      "• zY6#y0(java.io.InputStream) -> q47#y0(java.io.InputStream)\n",
      "• cUe#f(e95) -> z3f#f(Jc5)\n",
      "\n",
      "Matching Fields:\n"
     ]
    }
   ],
   "source": [
    "print(len(accumulator.matching_cs), \"/\", len(named_c_decs), \"Classes were matched\")\n",
    "print(len(accumulator.matching_ms), \"/\", len(m_decs), \"Methods were matched\")\n",
    "print(len(accumulator.matching_fs), \"/\", len(f_decs), \"Fields were matched\")\n",
    "\n",
    "print()\n",
    "print(\"Matching Classes:\")\n",
    "for c1, c2 in accumulator.matching_cs.items():\n",
    "    print(\"•\", pretty_format_class(c1), \"->\", pretty_format_class(c2))\n",
    "\n",
    "print()\n",
    "print(\"Matching Methods:\")\n",
    "for m, ma in accumulator.matching_ms.items():\n",
    "    print(\"•\", pretty_format_ma(m), \"->\", pretty_format_ma(ma))\n",
    "\n",
    "print()\n",
    "print(\"Matching Fields:\")\n",
    "for fa, fa2 in accumulator.matching_fs.items():\n",
    "    print(\"•\", pretty_format_fa(fa), \"->\", pretty_format_fa(fa2))"
   ]
  },
  {
   "cell_type": "code",
   "execution_count": 18,
   "metadata": {
    "scrolled": true
   },
   "outputs": [
    {
     "name": "stdout",
     "output_type": "stream",
     "text": [
      "m_decs = (\n",
      "    MethodDec('CV5', 'a', 'CV5', 'BV5'),\n",
      "    MethodDec('UEh', 'Y', 'Cke', 'oae'),\n",
      "    MethodDec('jmc', '<init>', 'java.lang.String', 'boolean', 'java.lang.String', 'java.lang.String', 'java.lang.String', 'java.lang.Long', 'cK5', 'long', 'boolean', 'java.lang.Long', 'long'),\n",
      "    MethodDec('z3f', 'f', 'Jc5'),\n",
      "    MethodDec('q47', 'y0', 'java.io.InputStream'),\n",
      ")\n",
      "c_decs = (\n",
      "    'CV5'\n",
      "    'UEh'\n",
      "    'jmc'\n",
      "    'z3f'\n",
      "    'q47',\n",
      ")\n",
      "f_decs = (\n",
      ")\n"
     ]
    }
   ],
   "source": [
    "generate.generate_m_decs(m_decs, r_mas, accumulator.matching_ms)\n",
    "generate.generate_c_decs(named_c_decs.values(), r_cas, accumulator.matching_cs)\n",
    "generate.generate_f_decs(f_decs, r_fas, accumulator.matching_fs)"
   ]
  },
  {
   "cell_type": "code",
   "execution_count": 19,
   "metadata": {},
   "outputs": [
    {
     "data": {
      "text/plain": [
       "'\\nc_file = \"/home/jaqxues/CodeProjects/IdeaProjects/Instaprefs/packimpl/src/main/java/com/marz/instaprefs/packimpl/decs/armv8/ClassDecsV8.kt\"\\nm_file = \"/home/jaqxues/CodeProjects/IdeaProjects/Instaprefs/packimpl/src/main/java/com/marz/instaprefs/packimpl/decs/armv8/MemberDecsV8.kt\"\\nf_file = \"/home/jaqxues/CodeProjects/IdeaProjects/Instaprefs/packimpl/src/main/java/com/marz/instaprefs/packimpl/decs/armv8/VariableDecsV8.kt\"\\n'"
      ]
     },
     "execution_count": 19,
     "metadata": {},
     "output_type": "execute_result"
    }
   ],
   "source": [
    "c_file = \"/home/jaqxues/CodeProjects/IdeaProjects/SnipTools/packimpl/src/main/java/com/jaqxues/sniptools/packimpl/hookdec/ClassDeclarations.kt\"\n",
    "m_file = \"/home/jaqxues/CodeProjects/IdeaProjects/SnipTools/packimpl/src/main/java/com/jaqxues/sniptools/packimpl/hookdec/MemberDeclarations.kt\"\n",
    "f_file = \"/dev/null\"\n",
    "\n",
    "\n",
    "\"\"\"\n",
    "c_file = \"/home/jaqxues/CodeProjects/IdeaProjects/Instaprefs/packimpl/src/main/java/com/marz/instaprefs/packimpl/decs/armv8/ClassDecsV8.kt\"\n",
    "m_file = \"/home/jaqxues/CodeProjects/IdeaProjects/Instaprefs/packimpl/src/main/java/com/marz/instaprefs/packimpl/decs/armv8/MemberDecsV8.kt\"\n",
    "f_file = \"/home/jaqxues/CodeProjects/IdeaProjects/Instaprefs/packimpl/src/main/java/com/marz/instaprefs/packimpl/decs/armv8/VariableDecsV8.kt\"\n",
    "\"\"\""
   ]
  },
  {
   "cell_type": "code",
   "execution_count": 20,
   "metadata": {},
   "outputs": [],
   "source": [
    "%autoreload\n",
    "\n",
    "c_txt = io_akrolyb.replace_cs(c_file, accumulator)\n",
    "m_txt = io_akrolyb.replace_ms(m_file, accumulator, named_m_decs)\n",
    "f_txt = io_akrolyb.replace_fs(f_file, accumulator, named_f_decs)"
   ]
  },
  {
   "cell_type": "code",
   "execution_count": 21,
   "metadata": {
    "scrolled": false
   },
   "outputs": [
    {
     "name": "stdout",
     "output_type": "stream",
     "text": [
      "package com.jaqxues.sniptools.packimpl.hookdec\n",
      "\n",
      "import com.jaqxues.akrolyb.genhook.decs.ClassDec\n",
      "\n",
      "object ClassDeclarations {\n",
      "    val SCREENSHOT_DETECTOR = ClassDec(\"CV5\")\n",
      "    val STORY_VIEWED_PLUGIN = ClassDec(\"UEh\")\n",
      "    val SNAP_MODEL = ClassDec(\"jmc\")\n",
      "    val APP_START_EXPERIMENT_MANAGER = ClassDec(\"z3f\")\n",
      "    val CBC_ENCRYPTION_ALGORITHM = ClassDec(\"q47\")\n",
      "}\n",
      "package com.jaqxues.sniptools.packimpl.hookdec\n",
      "\n",
      "import com.jaqxues.akrolyb.genhook.decs.MemberDec.ConstructorDec\n",
      "import com.jaqxues.akrolyb.genhook.decs.MemberDec.MethodDec\n",
      "import com.jaqxues.sniptools.packimpl.features.*\n",
      "import com.jaqxues.sniptools.packimpl.hookdec.ClassDeclarations.APP_START_EXPERIMENT_MANAGER\n",
      "import com.jaqxues.sniptools.packimpl.hookdec.ClassDeclarations.CBC_ENCRYPTION_ALGORITHM\n",
      "import com.jaqxues.sniptools.packimpl.hookdec.ClassDeclarations.SCREENSHOT_DETECTOR\n",
      "import com.jaqxues.sniptools.packimpl.hookdec.ClassDeclarations.SNAP_MODEL\n",
      "import com.jaqxues.sniptools.packimpl.hookdec.ClassDeclarations.STORY_VIEWED_PLUGIN\n",
      "import java.io.InputStream\n",
      "\n",
      "object MemberDeclarations {\n",
      "    val SCREENSHOT_DETECTED = MethodDec(\n",
      "        SCREENSHOT_DETECTOR,\n",
      "        \"a\",\n",
      "        arrayOf(ScreenshotBypass::class.java),\n",
      "\n",
      "        SCREENSHOT_DETECTOR, \"BV5\"\n",
      "    )\n",
      "\n",
      "    val MARK_STORY_AS_VIEWED = MethodDec(\n",
      "        STORY_VIEWED_PLUGIN,\n",
      "        \"Y\",\n",
      "        arrayOf(StealthViewing::class.java),\n",
      "\n",
      "        \"Cke\", \"oae\"\n",
      "    )\n",
      "\n",
      "    val SNAP_MODEL_CONSTRUCTOR = ConstructorDec(\n",
      "        SNAP_MODEL,\n",
      "        arrayOf(UnlimitedViewing::class.java),\n",
      "\n",
      "        String::class.java, Boolean::class.java, String::class.java, String::class.java,\n",
      "        String::class.java, Long::class.javaObjectType, \"cK5\", Long::class.java,\n",
      "        Boolean::class.java, Long::class.javaObjectType, Long::class.java\n",
      "    )\n",
      "\n",
      "    val FORCE_APP_DECK = MethodDec(\n",
      "        APP_START_EXPERIMENT_MANAGER,\n",
      "        \"f\",\n",
      "        arrayOf(MiscFeatures::class.java),\n",
      "\n",
      "        \"Jc5\"\n",
      "    )\n",
      "\n",
      "    val DECRYPT_MEDIA_STREAM = MethodDec(\n",
      "        CBC_ENCRYPTION_ALGORITHM,\n",
      "        \"y0\",\n",
      "        arrayOf(SavingFeature::class.java),\n",
      "\n",
      "        InputStream::class.java\n",
      "    )\n",
      "}\n",
      "\n"
     ]
    }
   ],
   "source": [
    "print(c_txt)\n",
    "print(m_txt)\n",
    "print(f_txt)"
   ]
  },
  {
   "cell_type": "markdown",
   "metadata": {},
   "source": [
    "# Interoptability with Akrolyb\n",
    "\n",
    "The following Code snippet allows to \"extract\" MethodDecs from MemberDeclarations in Akrolyb. This automates the process of providing GraphGuard the hooks it should find. Just paste the output (tuple of MethodDecs) in the corresponding section in this Notebook."
   ]
  },
  {
   "cell_type": "markdown",
   "metadata": {},
   "source": [
    "## Extract\n",
    "\n",
    "It is not in Python, since it would require a Kotlin Parser and evaluating imports, variables etc. Just executing the Constructors in Kotlin, then getting the values is much easier than static analysis. \n",
    "\n",
    "The `main` function can (and should) be run statically (locally on the machine and not on your Android) to build the list of `MethodDec`s that GraphGuard is supposed to match in an updated build of the target application. Adjust the MemberDeclarations Class to the Class where you declared the `MemberDeclaration`s.\n",
    "\n",
    "\n",
    "```kotlin\n",
    "fun main() {\n",
    "    GraphGuard.printGeneratedDecs(ClassDecs, MemberDecs, VariableDecs)\n",
    "}\n",
    "```"
   ]
  }
 ],
 "metadata": {
  "kernelspec": {
   "display_name": "Python 3",
   "language": "python",
   "name": "python3"
  },
  "language_info": {
   "codemirror_mode": {
    "name": "ipython",
    "version": 3
   },
   "file_extension": ".py",
   "mimetype": "text/x-python",
   "name": "python",
   "nbconvert_exporter": "python",
   "pygments_lexer": "ipython3",
   "version": "3.8.5"
  }
 },
 "nbformat": 4,
 "nbformat_minor": 4
}
